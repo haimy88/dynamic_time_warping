{
 "cells": [
  {
   "cell_type": "code",
   "execution_count": 1,
   "metadata": {},
   "outputs": [],
   "source": [
    "from matplotlib.patches import ConnectionPatch"
   ]
  },
  {
   "cell_type": "code",
   "execution_count": 2,
   "metadata": {},
   "outputs": [],
   "source": [
    "from matplotlib.patches import ConnectionPatch\n",
    "import matplotlib.pyplot as plt\n",
    "import numpy as np\n",
    "import scipy.spatial.distance as dist"
   ]
  },
  {
   "cell_type": "code",
   "execution_count": 3,
   "metadata": {},
   "outputs": [],
   "source": [
    "def dp(dist_mat):\n",
    "    \n",
    "    \n",
    "    #create the matrix\n",
    "    N, M = dist_mat.shape\n",
    "    \n",
    "    cost_mat = np.zeros((N + 1,M + 1))\n",
    "    \n",
    "    \n",
    "    #populating row 0 and column 0 with \"infinity\"\n",
    "    for i in range (1, N+1):\n",
    "        cost_mat[i, 0] = np.inf\n",
    "    for i in range (1, M+1):\n",
    "        cost_mat[0, i] = np.inf\n",
    "    \n",
    "    #initialize traceback matrix for tracking tracebacks\n",
    "    traceback_mat = np.zeros((N,M))\n",
    "    \n",
    "    for i in range(N):\n",
    "        for j in range(M):\n",
    "            penalty = [\n",
    "                cost_mat[i,j], #both advance\n",
    "                cost_mat[i, j+1], #bottom advances, top doesn't\n",
    "                cost_mat[i+1, j] #top advances, bottom doesn't\n",
    "            ]\n",
    "            #get the minimum penalty (index)\n",
    "            i_penalty = np.argmin(penalty)\n",
    "            \n",
    "            #populate the cell in the cost matrix\n",
    "            cost_mat[i + 1, j + 1] = dist_mat[i, j] + penalty[i_penalty]\n",
    "            \n",
    "            #populate the cell in traceback matrix\n",
    "            traceback_mat[i, j] = i_penalty\n",
    "            \n",
    "    i = N - 1\n",
    "    j = M - 1\n",
    "    \n",
    "    #create an array that describes the path tracing from bottom right\n",
    "    path = [(i, j)]\n",
    "    while i > 0 or j > 0:\n",
    "        tb_type = traceback_mat[i,j]\n",
    "        if tb_type == 0: #both advance\n",
    "            i = i - 1\n",
    "            j = j - 1\n",
    "        elif tb_type == 1: #top advances (backwards), bottom doesnt\n",
    "            i = i - 1\n",
    "        elif tb_type == 2: #bottom advances (backwards), top doesn't\n",
    "            j = j - 1\n",
    "        path.append((i,j))\n",
    "    \n",
    "    #remove rows of infinity\n",
    "    cost_mat = cost_mat[1:, 1:]\n",
    "    return (path[::-1], cost_mat)"
   ]
  },
  {
   "cell_type": "markdown",
   "metadata": {},
   "source": [
    "EXAMPLE 1"
   ]
  },
  {
   "cell_type": "code",
   "execution_count": 4,
   "metadata": {},
   "outputs": [
    {
     "data": {
      "text/plain": [
       "[<matplotlib.lines.Line2D at 0x7fc9c1ee52e0>]"
      ]
     },
     "execution_count": 4,
     "metadata": {},
     "output_type": "execute_result"
    },
    {
     "data": {
      "image/png": "[encoded data removed]",
      "text/plain": [
       "<Figure size 432x288 with 1 Axes>"
      ]
     },
     "metadata": {
      "needs_background": "light"
     },
     "output_type": "display_data"
    }
   ],
   "source": [
    "x = np.array([0,1,2,4,-2, 5, 2,-3, 0, 0, 1])\n",
    "y = np.array([0,2,3,2,4,-5, 0, 0, 3, 1, 0, 1])\n",
    "\n",
    "plt.figure(figsize = (6,4))\n",
    "plt.plot(np.arange(x.shape[0]), x +10, \"-o\", c=\"C3\")\n",
    "plt.plot(np.arange(y.shape[0]), y , \"-o\", c=\"C0\")"
   ]
  },
  {
   "cell_type": "code",
   "execution_count": 5,
   "metadata": {},
   "outputs": [
    {
     "name": "stdout",
     "output_type": "stream",
     "text": [
      "[[ 0.  2.  3.  2.  4.  5.  0.  0.  3.  1.  0.  1.]\n",
      " [ 1.  1.  2.  1.  3.  6.  1.  1.  2.  0.  1.  0.]\n",
      " [ 2.  0.  1.  0.  2.  7.  2.  2.  1.  1.  2.  1.]\n",
      " [ 4.  2.  1.  2.  0.  9.  4.  4.  1.  3.  4.  3.]\n",
      " [ 2.  4.  5.  4.  6.  3.  2.  2.  5.  3.  2.  3.]\n",
      " [ 5.  3.  2.  3.  1. 10.  5.  5.  2.  4.  5.  4.]\n",
      " [ 2.  0.  1.  0.  2.  7.  2.  2.  1.  1.  2.  1.]\n",
      " [ 3.  5.  6.  5.  7.  2.  3.  3.  6.  4.  3.  4.]\n",
      " [ 0.  2.  3.  2.  4.  5.  0.  0.  3.  1.  0.  1.]\n",
      " [ 0.  2.  3.  2.  4.  5.  0.  0.  3.  1.  0.  1.]\n",
      " [ 1.  1.  2.  1.  3.  6.  1.  1.  2.  0.  1.  0.]]\n"
     ]
    }
   ],
   "source": [
    "#first create the distance matrix to be placed into the cost matrix function\n",
    "\n",
    "#set dimensions based on arrays from before\n",
    "N = x.shape[0]\n",
    "M = y.shape[0]\n",
    "\n",
    "#initialize matrix, populate matrix with zeros\n",
    "dist_mat = np.zeros((N,M))\n",
    "\n",
    "#populate matrix with actual distance values\n",
    "for i in range(N):\n",
    "    for j in range(M):\n",
    "        dist_mat[i,j] = abs(x[i] - y[j])\n",
    "\n",
    "print (dist_mat)"
   ]
  },
  {
   "cell_type": "code",
   "execution_count": 6,
   "metadata": {},
   "outputs": [
    {
     "name": "stdout",
     "output_type": "stream",
     "text": [
      "Alignment cost: 14.0000\n",
      "Normalized Alignment cost: 0.6087\n"
     ]
    }
   ],
   "source": [
    "# get path and cost_mat\n",
    "\n",
    "path, cost_mat = dp(dist_mat)\n",
    "\n",
    "#print alignment costs\n",
    "print (\"Alignment cost: {:.4f}\".format(cost_mat[N-1, M-1]))\n",
    "print (\"Normalized Alignment cost: {:.4f}\".format(cost_mat[N-1, M-1]/(N + M)))"
   ]
  },
  {
   "cell_type": "code",
   "execution_count": 7,
   "metadata": {},
   "outputs": [
    {
     "data": {
      "image/png": "[encoded data removed]",
      "text/plain": [
       "<Figure size 432x288 with 1 Axes>"
      ]
     },
     "metadata": {
      "needs_background": "light"
     },
     "output_type": "display_data"
    }
   ],
   "source": [
    "plt.figure(figsize =(6,4))\n",
    "plt.subplot(121)\n",
    "plt.title(\"Distance Matrix\")\n",
    "plt.imshow(dist_mat, cmap =plt.cm.binary, interpolation = \"nearest\", origin =\"lower\")\n",
    "\n",
    "plt.show()"
   ]
  },
  {
   "cell_type": "code",
   "execution_count": 8,
   "metadata": {},
   "outputs": [
    {
     "data": {
      "image/png": "[encoded data removed]",
      "text/plain": [
       "<Figure size 432x288 with 1 Axes>"
      ]
     },
     "metadata": {
      "needs_background": "light"
     },
     "output_type": "display_data"
    }
   ],
   "source": [
    "plt.figure(figsize =(6,4))\n",
    "plt.subplot(121)\n",
    "plt.title(\"Distance Matrix\")\n",
    "plt.imshow(dist_mat, cmap =plt.cm.binary, interpolation = \"bilinear\", origin =\"lower\")\n",
    "\n",
    "plt.show()"
   ]
  },
  {
   "cell_type": "code",
   "execution_count": 9,
   "metadata": {},
   "outputs": [
    {
     "data": {
      "image/png": "[encoded data removed]",
      "text/plain": [
       "<Figure size 432x288 with 1 Axes>"
      ]
     },
     "metadata": {
      "needs_background": "light"
     },
     "output_type": "display_data"
    }
   ],
   "source": [
    "plt.subplot(122)\n",
    "plt.title(\"Cost matrix\")\n",
    "plt.imshow(cost_mat, cmap = plt.cm.binary, interpolation=\"nearest\", origin = \"lower\")\n",
    "x_path, y_path = zip(*path)\n",
    "plt.plot(x_path, y_path)\n",
    "\n",
    "plt.show()"
   ]
  },
  {
   "cell_type": "code",
   "execution_count": 10,
   "metadata": {},
   "outputs": [
    {
     "name": "stdout",
     "output_type": "stream",
     "text": [
      "(0, 1, 2, 3, 4, 5, 6, 7, 8, 9, 10, 10, 10, 10) (0, 0, 1, 2, 3, 4, 4, 5, 6, 7, 8, 9, 10, 11)\n"
     ]
    }
   ],
   "source": [
    "print (x_path, y_path)"
   ]
  },
  {
   "cell_type": "code",
   "execution_count": 11,
   "metadata": {},
   "outputs": [
    {
     "data": {
      "text/plain": [
       "(-0.55, 11.55, -6.0, 16.0)"
      ]
     },
     "execution_count": 11,
     "metadata": {},
     "output_type": "execute_result"
    },
    {
     "data": {
      "image/png": "[encoded data removed]",
      "text/plain": [
       "<Figure size 432x288 with 1 Axes>"
      ]
     },
     "metadata": {
      "needs_background": "light"
     },
     "output_type": "display_data"
    }
   ],
   "source": [
    "plt.figure()\n",
    "for x_i, y_j in path:\n",
    "    plt.plot([x_i, y_j], [x[x_i] + 10, y[y_j]], c=\"C7\")\n",
    "plt.plot(np.arange(x.shape[0]), x + 10, \"-o\", c=\"C3\")\n",
    "plt.plot(np.arange(y.shape[0]), y, \"-o\", c=\"C0\")\n",
    "plt.axis(\"off\")"
   ]
  },
  {
   "cell_type": "markdown",
   "metadata": {},
   "source": [
    "Example 2"
   ]
  },
  {
   "cell_type": "code",
   "execution_count": 12,
   "metadata": {},
   "outputs": [
    {
     "data": {
      "text/plain": [
       "[<matplotlib.lines.Line2D at 0x7fc9b02bc580>]"
      ]
     },
     "execution_count": 12,
     "metadata": {},
     "output_type": "execute_result"
    },
    {
     "data": {
      "image/png": "[encoded data removed]",
      "text/plain": [
       "<Figure size 432x288 with 1 Axes>"
      ]
     },
     "metadata": {
      "needs_background": "light"
     },
     "output_type": "display_data"
    }
   ],
   "source": [
    "idx = np.linspace(0, 10, num=30)\n",
    "\n",
    "x = np.cos(0.6*idx+1)\n",
    "\n",
    "y = np.sin(idx) + np.random.uniform(size=30)\n",
    "\n",
    "plt.figure(figsize = (6,4))\n",
    "plt.plot(np.arange(x.shape[0]), x + 3, \"-o\", c=\"C3\")\n",
    "plt.plot(np.arange(y.shape[0]), y, \"-o\", c=\"C0\")\n"
   ]
  },
  {
   "cell_type": "code",
   "execution_count": 13,
   "metadata": {},
   "outputs": [],
   "source": [
    "M = x.shape[0]\n",
    "N = y.shape[0]\n",
    "\n",
    "dist_mat = np.zeros((N,M))\n",
    "\n",
    "for i in range(M):\n",
    "    for j in range (N):\n",
    "        dist_mat[i,j] = abs(x[i] - y[j])"
   ]
  },
  {
   "cell_type": "code",
   "execution_count": 14,
   "metadata": {},
   "outputs": [
    {
     "name": "stdout",
     "output_type": "stream",
     "text": [
      "[[3.36494097e-01 6.94874663e-01 9.52119960e-01 1.19091167e+00\n",
      "  1.17010994e+00 1.41203870e+00 1.30024353e+00 1.10689864e+00\n",
      "  7.90451323e-01 4.37005362e-01 8.03575738e-02 5.26764512e-01\n",
      "  7.71118097e-01 7.24360892e-01 1.22890267e+00 6.65055724e-01\n",
      "  8.69733322e-01 3.10816417e-01 6.15624119e-01 2.53092498e-01\n",
      "  7.74861767e-01 1.11129501e+00 7.19206758e-01 6.38289542e-01\n",
      "  8.10578741e-01 7.14650955e-01 7.87456447e-01 4.78400432e-01\n",
      "  1.16925274e-01 4.19416795e-01]\n",
      " [1.52113123e-01 8.79255637e-01 1.13650093e+00 1.37529264e+00\n",
      "  1.35449091e+00 1.59641967e+00 1.48462450e+00 1.29127962e+00\n",
      "  9.74832297e-01 2.52624389e-01 1.04023400e-01 3.42383539e-01\n",
      "  5.86737124e-01 5.39979919e-01 1.04452169e+00 4.80674750e-01\n",
      "  6.85352348e-01 1.26435443e-01 4.31243146e-01 6.87115248e-02\n",
      "  9.59242740e-01 1.29567598e+00 9.03587731e-01 8.22670516e-01\n",
      "  9.94959714e-01 8.99031929e-01 9.71837421e-01 6.62781406e-01\n",
      "  6.74556995e-02 2.35035821e-01]\n",
      " [4.74492132e-02 1.07881797e+00 1.33606327e+00 1.57485498e+00\n",
      "  1.55405325e+00 1.79598201e+00 1.68418684e+00 1.49084195e+00\n",
      "  1.17439463e+00 5.30620525e-02 3.03585736e-01 1.42821202e-01\n",
      "  3.87174787e-01 3.40417582e-01 8.44959357e-01 2.81112414e-01\n",
      "  4.85790012e-01 7.31268932e-02 2.31680809e-01 1.30850812e-01\n",
      "  1.15880508e+00 1.49523832e+00 1.10315007e+00 1.02223285e+00\n",
      "  1.19452205e+00 1.09859427e+00 1.17139976e+00 8.62343742e-01\n",
      "  2.67018036e-01 3.54734850e-02]\n",
      " [2.53680840e-01 1.28504960e+00 1.54229490e+00 1.78108660e+00\n",
      "  1.76028488e+00 2.00221363e+00 1.89041847e+00 1.69707358e+00\n",
      "  1.38062626e+00 1.53169574e-01 5.09817363e-01 6.34104244e-02\n",
      "  1.80943161e-01 1.34185956e-01 6.38727731e-01 7.48807872e-02\n",
      "  2.79558385e-01 2.79358520e-01 2.54491825e-02 3.37082438e-01\n",
      "  1.36503670e+00 1.70146995e+00 1.30938169e+00 1.22846448e+00\n",
      "  1.40075368e+00 1.30482589e+00 1.37763138e+00 1.06857537e+00\n",
      "  4.73249663e-01 1.70758142e-01]\n",
      " [4.57785214e-01 1.48915397e+00 1.74639927e+00 1.98519098e+00\n",
      "  1.96438925e+00 2.20631801e+00 2.09452284e+00 1.90117795e+00\n",
      "  1.58473063e+00 3.57273948e-01 7.13921737e-01 2.67514799e-01\n",
      "  2.31612136e-02 6.99184185e-02 4.34623357e-01 1.29223587e-01\n",
      "  7.54540111e-02 4.83462894e-01 1.78655192e-01 5.41186813e-01\n",
      "  1.56914108e+00 1.90557432e+00 1.51348607e+00 1.43256885e+00\n",
      "  1.60485805e+00 1.50893027e+00 1.58173576e+00 1.27267974e+00\n",
      "  6.77354037e-01 3.74862516e-01]\n",
      " [6.51056529e-01 1.68242529e+00 1.93967059e+00 2.17846229e+00\n",
      "  2.15766057e+00 2.39958932e+00 2.28779416e+00 2.09444927e+00\n",
      "  1.77800195e+00 5.50545263e-01 9.07193051e-01 4.60786113e-01\n",
      "  2.16432528e-01 2.63189733e-01 2.41352042e-01 3.22494901e-01\n",
      "  1.17817303e-01 6.76734209e-01 3.71926506e-01 7.34458127e-01\n",
      "  1.76241239e+00 2.09884564e+00 1.70675738e+00 1.62584017e+00\n",
      "  1.79812937e+00 1.70220158e+00 1.77500707e+00 1.46595106e+00\n",
      "  8.70625351e-01 5.68133830e-01]\n",
      " [8.25251046e-01 1.85661981e+00 2.11386510e+00 2.35265681e+00\n",
      "  2.33185508e+00 2.57378384e+00 2.46198867e+00 2.26864379e+00\n",
      "  1.95219647e+00 7.24739780e-01 1.08138757e+00 6.34980630e-01\n",
      "  3.90627045e-01 4.37384250e-01 6.71575248e-02 4.96689419e-01\n",
      "  2.92011821e-01 8.50928726e-01 5.46121023e-01 9.08652644e-01\n",
      "  1.93660691e+00 2.27304015e+00 1.88095190e+00 1.80003468e+00\n",
      "  1.97232388e+00 1.87639610e+00 1.94920159e+00 1.64014557e+00\n",
      "  1.04481987e+00 7.42328348e-01]\n",
      " [9.72938725e-01 2.00430748e+00 2.26155278e+00 2.50034449e+00\n",
      "  2.47954276e+00 2.72147152e+00 2.60967635e+00 2.41633146e+00\n",
      "  2.09988414e+00 8.72427459e-01 1.22907525e+00 7.82668309e-01\n",
      "  5.38314724e-01 5.85071929e-01 8.05301540e-02 6.44377098e-01\n",
      "  4.39699499e-01 9.98616405e-01 6.93808702e-01 1.05634032e+00\n",
      "  2.08429459e+00 2.42072783e+00 2.02863958e+00 1.94772236e+00\n",
      "  2.12001156e+00 2.02408378e+00 2.09688927e+00 1.78783325e+00\n",
      "  1.19250755e+00 8.90016026e-01]\n",
      " [1.08782014e+00 2.11918890e+00 2.37643420e+00 2.61522590e+00\n",
      "  2.59442418e+00 2.83635293e+00 2.72455777e+00 2.53121288e+00\n",
      "  2.21476556e+00 9.87308873e-01 1.34395666e+00 8.97549723e-01\n",
      "  6.53196138e-01 6.99953343e-01 1.95411568e-01 7.59258512e-01\n",
      "  5.54580913e-01 1.11349782e+00 8.08690116e-01 1.17122174e+00\n",
      "  2.19917600e+00 2.53560925e+00 2.14352099e+00 2.06260378e+00\n",
      "  2.23489298e+00 2.13896519e+00 2.21177068e+00 1.90271467e+00\n",
      "  1.30738896e+00 1.00489744e+00]\n",
      " [1.16499517e+00 2.19636393e+00 2.45360923e+00 2.69240093e+00\n",
      "  2.67159921e+00 2.91352796e+00 2.80173280e+00 2.60838791e+00\n",
      "  2.29194059e+00 1.06448390e+00 1.42113169e+00 9.74724754e-01\n",
      "  7.30371169e-01 7.77128374e-01 2.72586599e-01 8.36433543e-01\n",
      "  6.31755945e-01 1.19067285e+00 8.85865148e-01 1.24839677e+00\n",
      "  2.27635103e+00 2.61278428e+00 2.22069602e+00 2.13977881e+00\n",
      "  2.31206801e+00 2.21614022e+00 2.28894571e+00 1.97988970e+00\n",
      "  1.38456399e+00 1.08207247e+00]\n",
      " [1.20117202e+00 2.23254078e+00 2.48978607e+00 2.72857778e+00\n",
      "  2.70777606e+00 2.94970481e+00 2.83790965e+00 2.64456476e+00\n",
      "  2.32811744e+00 1.10066075e+00 1.45730854e+00 1.01090160e+00\n",
      "  7.66548017e-01 8.13305222e-01 3.08763447e-01 8.72610391e-01\n",
      "  6.67932793e-01 1.22684970e+00 9.22041995e-01 1.28457362e+00\n",
      "  2.31252788e+00 2.64896113e+00 2.25687287e+00 2.17595566e+00\n",
      "  2.34824486e+00 2.25231707e+00 2.32512256e+00 2.01606655e+00\n",
      "  1.42074084e+00 1.11824932e+00]\n",
      " [1.19480761e+00 2.22617637e+00 2.48342166e+00 2.72221337e+00\n",
      "  2.70141164e+00 2.94334040e+00 2.83154523e+00 2.63820035e+00\n",
      "  2.32175303e+00 1.09429634e+00 1.45094413e+00 1.00453719e+00\n",
      "  7.60183605e-01 8.06940810e-01 3.02399035e-01 8.66245979e-01\n",
      "  6.61568380e-01 1.22048529e+00 9.15677583e-01 1.27820920e+00\n",
      "  2.30616347e+00 2.64259671e+00 2.25050846e+00 2.16959124e+00\n",
      "  2.34188044e+00 2.24595266e+00 2.31875815e+00 2.00970213e+00\n",
      "  1.41437643e+00 1.11188491e+00]\n",
      " [1.14617340e+00 2.17754216e+00 2.43478746e+00 2.67357916e+00\n",
      "  2.65277744e+00 2.89470619e+00 2.78291103e+00 2.58956614e+00\n",
      "  2.27311882e+00 1.04566213e+00 1.40230992e+00 9.55902984e-01\n",
      "  7.11549398e-01 7.58306603e-01 2.53764828e-01 8.17611772e-01\n",
      "  6.12934174e-01 1.17185108e+00 8.67043377e-01 1.22957500e+00\n",
      "  2.25752926e+00 2.59396251e+00 2.20187425e+00 2.12095704e+00\n",
      "  2.29324624e+00 2.19731845e+00 2.27012394e+00 1.96106793e+00\n",
      "  1.36574222e+00 1.06325070e+00]\n",
      " [1.05734383e+00 2.08871259e+00 2.34595788e+00 2.58474959e+00\n",
      "  2.56394786e+00 2.80587662e+00 2.69408145e+00 2.50073657e+00\n",
      "  2.18428925e+00 9.56832561e-01 1.31348035e+00 8.67073412e-01\n",
      "  6.22719827e-01 6.69477032e-01 1.64935257e-01 7.28782200e-01\n",
      "  5.24104602e-01 1.08302151e+00 7.78213805e-01 1.14074543e+00\n",
      "  2.16869969e+00 2.50513293e+00 2.11304468e+00 2.03212747e+00\n",
      "  2.20441666e+00 2.10848888e+00 2.18129437e+00 1.87223836e+00\n",
      "  1.27691265e+00 9.74421129e-01]\n",
      " [9.32107800e-01 1.96347656e+00 2.22072186e+00 2.45951356e+00\n",
      "  2.43871184e+00 2.68064059e+00 2.56884543e+00 2.37550054e+00\n",
      "  2.05905322e+00 8.31596535e-01 1.18824432e+00 7.41837385e-01\n",
      "  4.97483800e-01 5.44241005e-01 3.96992296e-02 6.03546173e-01\n",
      "  3.98868575e-01 9.57785480e-01 6.52977778e-01 1.01550940e+00\n",
      "  2.04346366e+00 2.37989691e+00 1.98780865e+00 1.90689144e+00\n",
      "  2.07918064e+00 1.98325285e+00 2.05605834e+00 1.74700233e+00\n",
      "  1.15167662e+00 8.49185102e-01]\n",
      " [7.75807099e-01 1.80717586e+00 2.06442116e+00 2.30321286e+00\n",
      "  2.28241114e+00 2.52433989e+00 2.41254473e+00 2.21919984e+00\n",
      "  1.90275252e+00 6.75295833e-01 1.03194362e+00 5.85536683e-01\n",
      "  3.41183098e-01 3.87940303e-01 1.16601472e-01 4.47245472e-01\n",
      "  2.42567873e-01 8.01484779e-01 4.96677076e-01 8.59208697e-01\n",
      "  1.88716296e+00 2.22359621e+00 1.83150795e+00 1.75059074e+00\n",
      "  1.92287994e+00 1.82695215e+00 1.89975764e+00 1.59070163e+00\n",
      "  9.95375921e-01 6.92884400e-01]\n",
      " [5.95108526e-01 1.62647729e+00 1.88372258e+00 2.12251429e+00\n",
      "  2.10171256e+00 2.34364132e+00 2.23184615e+00 2.03850127e+00\n",
      "  1.72205395e+00 4.94597260e-01 8.51245049e-01 4.04838111e-01\n",
      "  1.60484525e-01 2.07241730e-01 2.97300045e-01 2.66546899e-01\n",
      "  6.18693008e-02 6.20786206e-01 3.15978504e-01 6.78510124e-01\n",
      "  1.70646439e+00 2.04289763e+00 1.65080938e+00 1.56989217e+00\n",
      "  1.74218136e+00 1.64625358e+00 1.71905907e+00 1.41000305e+00\n",
      "  8.14677349e-01 5.12185828e-01]\n",
      " [3.97719546e-01 1.42908831e+00 1.68633360e+00 1.92512531e+00\n",
      "  1.90432358e+00 2.14625234e+00 2.03445717e+00 1.84111229e+00\n",
      "  1.52466497e+00 2.97208280e-01 6.53856069e-01 2.07449130e-01\n",
      "  3.69044548e-02 9.85275010e-03 4.94689025e-01 6.91579187e-02\n",
      "  1.35519679e-01 4.23397226e-01 1.18589523e-01 4.81121144e-01\n",
      "  1.50907541e+00 1.84550865e+00 1.45342040e+00 1.37250318e+00\n",
      "  1.54479238e+00 1.44886460e+00 1.52167009e+00 1.21261407e+00\n",
      "  6.17288368e-01 3.14796848e-01]\n",
      " [1.92059529e-01 1.22342829e+00 1.48067359e+00 1.71946529e+00\n",
      "  1.69866357e+00 1.94059232e+00 1.82879716e+00 1.63545227e+00\n",
      "  1.31900495e+00 9.15482632e-02 4.48196052e-01 1.78911336e-03\n",
      "  2.42564472e-01 1.95807267e-01 7.00349042e-01 1.36502098e-01\n",
      "  3.41179696e-01 2.17737209e-01 8.70704936e-02 2.75461127e-01\n",
      "  1.30341539e+00 1.63984864e+00 1.24776038e+00 1.16684317e+00\n",
      "  1.33913237e+00 1.24320458e+00 1.31601007e+00 1.00695406e+00\n",
      "  4.11628352e-01 1.09136831e-01]\n",
      " [1.30993633e-02 1.01826940e+00 1.27551469e+00 1.51430640e+00\n",
      "  1.49350467e+00 1.73543343e+00 1.62363826e+00 1.43029338e+00\n",
      "  1.11384606e+00 1.13610629e-01 2.43037160e-01 2.03369779e-01\n",
      "  4.47723364e-01 4.00966159e-01 9.05507934e-01 3.41660990e-01\n",
      "  5.46338589e-01 1.25783167e-02 2.92229386e-01 7.03022351e-02\n",
      "  1.09825650e+00 1.43468974e+00 1.04260149e+00 9.61684276e-01\n",
      "  1.13397347e+00 1.03804569e+00 1.11085118e+00 8.01795166e-01\n",
      "  2.06469459e-01 9.60220616e-02]\n",
      " [2.09006344e-01 8.22362416e-01 1.07960771e+00 1.31839942e+00\n",
      "  1.29759769e+00 1.53952645e+00 1.42773128e+00 1.23438640e+00\n",
      "  9.17939076e-01 3.09517610e-01 4.71301786e-02 3.99276760e-01\n",
      "  6.43630345e-01 5.96873140e-01 1.10141491e+00 5.37567971e-01\n",
      "  7.42245569e-01 1.83328664e-01 4.88136367e-01 1.25604746e-01\n",
      "  9.02349519e-01 1.23878276e+00 8.46694510e-01 7.65777295e-01\n",
      "  9.38066493e-01 8.42138708e-01 9.14944199e-01 6.05888185e-01\n",
      "  1.05624784e-02 2.91929042e-01]\n",
      " [3.87305256e-01 6.44063505e-01 9.01308801e-01 1.14010051e+00\n",
      "  1.11929878e+00 1.36122754e+00 1.24943237e+00 1.05608748e+00\n",
      "  7.39640164e-01 4.87816521e-01 1.31168733e-01 5.77575671e-01\n",
      "  8.21929256e-01 7.75172051e-01 1.27971383e+00 7.15866883e-01\n",
      "  9.20544481e-01 3.61627576e-01 6.66435278e-01 3.03903657e-01\n",
      "  7.24050608e-01 1.06048385e+00 6.68395599e-01 5.87478383e-01\n",
      "  7.59767582e-01 6.63839796e-01 7.36645288e-01 4.27589273e-01\n",
      "  1.67736433e-01 4.70227954e-01]\n",
      " [5.40390989e-01 4.90977772e-01 7.48223068e-01 9.87014776e-01\n",
      "  9.66213049e-01 1.20814181e+00 1.09634664e+00 9.03001751e-01\n",
      "  5.86554431e-01 6.40902254e-01 2.84254466e-01 7.30661404e-01\n",
      "  9.75014989e-01 9.28257784e-01 1.43279956e+00 8.68952616e-01\n",
      "  1.07363021e+00 5.14713309e-01 8.19521011e-01 4.56989390e-01\n",
      "  5.70964875e-01 9.07398119e-01 5.15309866e-01 4.34392650e-01\n",
      "  6.06681849e-01 5.10754063e-01 5.83559555e-01 2.74503540e-01\n",
      "  3.20822166e-01 6.23313687e-01]\n",
      " [6.61733870e-01 3.69634890e-01 6.26880187e-01 8.65671894e-01\n",
      "  8.44870168e-01 1.08679892e+00 9.75003758e-01 7.81658870e-01\n",
      "  4.65211550e-01 7.62245135e-01 4.05597347e-01 8.52004285e-01\n",
      "  1.09635787e+00 1.04960067e+00 1.55414244e+00 9.90295497e-01\n",
      "  1.19497309e+00 6.36056190e-01 9.40863892e-01 5.78332271e-01\n",
      "  4.49621994e-01 7.86055237e-01 3.93966985e-01 3.13049769e-01\n",
      "  4.85338968e-01 3.89411182e-01 4.62216674e-01 1.53160659e-01\n",
      "  4.42165047e-01 7.44656568e-01]\n",
      " [7.46158176e-01 2.85210584e-01 5.42455881e-01 7.81247588e-01\n",
      "  7.60445862e-01 1.00237462e+00 8.90579452e-01 6.97234564e-01\n",
      "  3.80787244e-01 8.46669442e-01 4.90021653e-01 9.36428591e-01\n",
      "  1.18078218e+00 1.13402497e+00 1.63856675e+00 1.07471980e+00\n",
      "  1.27939740e+00 7.20480496e-01 1.02528820e+00 6.62756577e-01\n",
      "  3.65197687e-01 7.01630931e-01 3.09542679e-01 2.28625463e-01\n",
      "  4.00914662e-01 3.04986876e-01 3.77792368e-01 6.87363530e-02\n",
      "  5.26589353e-01 8.29080874e-01]\n",
      " [7.90062897e-01 2.41305863e-01 4.98551159e-01 7.37342867e-01\n",
      "  7.16541140e-01 9.58469896e-01 8.46674730e-01 6.53329842e-01\n",
      "  3.36882522e-01 8.90574163e-01 5.33926375e-01 9.80333313e-01\n",
      "  1.22468690e+00 1.17792969e+00 1.68247147e+00 1.11862452e+00\n",
      "  1.32330212e+00 7.64385217e-01 1.06919292e+00 7.06661299e-01\n",
      "  3.21292966e-01 6.57726210e-01 2.65637957e-01 1.84720742e-01\n",
      "  3.57009940e-01 2.61082155e-01 3.33887646e-01 2.48316314e-02\n",
      "  5.70494075e-01 8.72985596e-01]\n",
      " [7.91575336e-01 2.39793424e-01 4.97038721e-01 7.35830428e-01\n",
      "  7.15028702e-01 9.56957458e-01 8.45162292e-01 6.51817404e-01\n",
      "  3.35370084e-01 8.92086601e-01 5.35438813e-01 9.81845751e-01\n",
      "  1.22619934e+00 1.17944213e+00 1.68398391e+00 1.12013696e+00\n",
      "  1.32481456e+00 7.65897656e-01 1.07070536e+00 7.08173737e-01\n",
      "  3.19780528e-01 6.56213772e-01 2.64125519e-01 1.83208303e-01\n",
      "  3.55497502e-01 2.59569716e-01 3.32375208e-01 2.33191932e-02\n",
      "  5.72006513e-01 8.74498034e-01]\n",
      " [7.50630979e-01 2.80737781e-01 5.37983077e-01 7.76774785e-01\n",
      "  7.55973058e-01 9.97901814e-01 8.86106648e-01 6.92761760e-01\n",
      "  3.76314440e-01 8.51142245e-01 4.94494457e-01 9.40901395e-01\n",
      "  1.18525498e+00 1.13849778e+00 1.64303955e+00 1.07919261e+00\n",
      "  1.28387020e+00 7.24953299e-01 1.02976100e+00 6.67229381e-01\n",
      "  3.60724884e-01 6.97158128e-01 3.05069875e-01 2.24152660e-01\n",
      "  3.96441858e-01 3.00514073e-01 3.73319564e-01 6.42635494e-02\n",
      "  5.31062157e-01 8.33553678e-01]\n",
      " [6.68976257e-01 3.62392503e-01 6.19637800e-01 8.58429507e-01\n",
      "  8.37627780e-01 1.07955654e+00 9.67761371e-01 7.74416482e-01\n",
      "  4.57969163e-01 7.69487523e-01 4.12839734e-01 8.59246673e-01\n",
      "  1.10360026e+00 1.05684305e+00 1.56138483e+00 9.97537884e-01\n",
      "  1.20221548e+00 6.43298577e-01 9.48106280e-01 5.85574659e-01\n",
      "  4.42379606e-01 7.78812850e-01 3.86724597e-01 3.05807382e-01\n",
      "  4.78096580e-01 3.82168795e-01 4.54974287e-01 1.45918272e-01\n",
      "  4.49407435e-01 7.51898955e-01]\n",
      " [5.50094045e-01 4.81274715e-01 7.38520012e-01 9.77311719e-01\n",
      "  9.56509992e-01 1.19843875e+00 1.08664358e+00 8.93298694e-01\n",
      "  5.76851375e-01 6.50605311e-01 2.93957522e-01 7.40364461e-01\n",
      "  9.84718046e-01 9.37960841e-01 1.44250262e+00 8.78655672e-01\n",
      "  1.08333327e+00 5.24416365e-01 8.29224068e-01 4.66692447e-01\n",
      "  5.61261818e-01 8.97695062e-01 5.05606809e-01 4.24689594e-01\n",
      "  5.96978793e-01 5.01051007e-01 5.73856499e-01 2.64800484e-01\n",
      "  3.30525222e-01 6.33016743e-01]]\n"
     ]
    }
   ],
   "source": [
    "print (dist_mat)"
   ]
  },
  {
   "cell_type": "code",
   "execution_count": 15,
   "metadata": {},
   "outputs": [
    {
     "name": "stdout",
     "output_type": "stream",
     "text": [
      "Alignment cost: 16.7573\n",
      "Normalized Alignment Cost: 0.279\n",
      "[[ 0.3364941   1.03136876  1.98348872  3.17440039  4.34451033  5.75654903\n",
      "   7.05679256  8.1636912   8.95414252  9.39114789  9.47150546  9.99826997\n",
      "  10.76938807 11.49374896 12.72265163 13.38770735 14.25744067 14.56825709\n",
      "  15.18388121 15.43697371 16.21183547 17.32313048 18.04233724 18.68062679\n",
      "  19.49120553 20.20585648 20.99331293 21.47171336 21.58863863 22.00805543]\n",
      " [ 0.48860722  1.21574973  2.16786969  3.35878136  4.5288913   5.94093\n",
      "   7.24117353  8.34807217  9.1385235   9.20676691  9.31079031  9.65317385\n",
      "  10.23991097 10.77989089 11.82441259 12.30508734 12.99043969 13.11687513\n",
      "  13.54811827 13.6168298  14.57607254 15.87174852 16.77533625 17.59800677\n",
      "  18.59296648 19.49199841 20.46383583 21.12661724 21.19407294 21.42910876]\n",
      " [ 0.53605643  1.56742519  2.551813    3.74272467  4.91283461  6.32487331\n",
      "   7.62511684  8.73201548  9.52246681  9.19158555  9.49517128  9.45361151\n",
      "   9.8407863  10.18120388 11.02616324 11.30727565 11.79306567 11.86619256\n",
      "  12.09787337 12.22872418 13.38752926 14.88276758 15.98591765 17.0081505\n",
      "  18.20267255 19.30126681 20.47266657 21.32617958 21.39363528 21.22954642]\n",
      " [ 0.78973727  1.82110603  3.10972009  4.33289961  5.50300955  6.91504825\n",
      "   8.21529178  9.32219042 10.11264174  9.34475512  9.70140291  9.51702194\n",
      "   9.63455467  9.76874063 10.40746836 10.48234915 10.76190753 11.04126605\n",
      "  11.06671524 11.40379767 12.76883438 14.47030432 15.77968602 17.0081505\n",
      "  18.40890418 19.50749844 20.6788982  21.54124194 21.79942924 21.40030457]\n",
      " [ 1.24752249  2.27889125  3.5675053   5.09491107  6.29728886  7.70932756\n",
      "   9.00957109 10.11646973 10.90692105  9.70202907 10.05867686  9.78453674\n",
      "   9.54018315  9.61010157 10.04472493 10.17394851 10.24940252 10.73286542\n",
      "  10.91152061 11.45270742 12.97293875 14.6744087  15.98379039 17.21225487\n",
      "  18.61300855 19.91783444 21.0892342  21.95157794 22.21859598 21.77516708]\n",
      " [ 1.89857902  2.92994778  4.21856183  5.7459676   7.25257163  8.69687818\n",
      "   9.99712171 11.10402036 11.89447168 10.25257433 10.60922212 10.24532285\n",
      "   9.75661568  9.80337288  9.85145361 10.17394851 10.29176582 10.92613673\n",
      "  11.10479193 11.64597874 13.21511982 15.07178439 16.38116608 17.60963056\n",
      "  19.01038424 20.31521013 21.69284151 22.55518526 22.82220329 22.34330091]\n",
      " [ 2.72383006  3.75519882  5.04381288  6.57121864  8.07782268  9.82635547\n",
      "  11.15886686 12.2657655  13.05621682 10.97731411 11.3339619  10.88030348\n",
      "  10.14724272 10.19399993  9.87053041 10.34814303 10.46596033 11.14269454\n",
      "  11.47225776 12.01344457 13.58258565 15.48815997 16.95273629 18.18120077\n",
      "  19.58195444 20.88678034 22.26441172 23.33298709 23.60000512 23.08562926]\n",
      " [ 3.69676879  4.72813755  6.0167516   7.54415737  9.0507614  10.7992942\n",
      "  12.43603183 13.57519832 14.36564964 11.84974157 12.20638936 11.66297179\n",
      "  10.68555745 10.73231465  9.95106056 10.51490751 10.78784253 11.46457674\n",
      "  11.83650325 12.52859808 14.09773916 16.00331348 17.51679955 18.90045865\n",
      "  20.30121233 21.60603822 22.9836696  24.05224497 24.52549464 23.97564529]\n",
      " [ 4.78458892  5.81595768  7.10457174  8.63197751 10.13858154 11.88711434\n",
      "  13.52385197 14.9672447  15.78996388 12.83705045 13.19369823 12.56052151\n",
      "  11.33875359 11.38551079 10.14647213 10.71031908 11.06948842 11.90134035\n",
      "  12.27326686 13.00772498 14.72777408 16.6333484  18.14683447 19.57940332\n",
      "  21.13535163 22.44017752 23.8178089  24.88638427 25.35963393 24.98054273]\n",
      " [ 5.94958409  6.98095285  8.26956691  9.79697268 11.30357671 13.05210951\n",
      "  14.68884714 16.13223987 17.25918529 13.90153435 14.25818214 13.53524627\n",
      "  12.06912476 12.11588196 10.41905873 10.98290567 11.34207502 12.26016127\n",
      "  12.7872055  13.52166362 15.28407602 17.34055836 18.85404443 20.28661328\n",
      "  21.89147133 23.35149185 24.72912323 25.7976986  26.27094826 26.0626152 ]\n",
      " [ 7.15075611  8.18212487  9.47073893 10.99814469 12.50474873 14.25328153\n",
      "  15.89001915 17.33341189 18.46035731 15.0021951  15.35884289 14.54614787\n",
      "  12.83567277 12.88242998 10.72782218 11.29166912 11.65083847 12.56892472\n",
      "  13.18220327 14.07177911 15.8341915  17.93303714 19.59743123 21.03000008\n",
      "  22.63485814 24.1437884  25.67661441 26.74518978 27.21843944 27.18086452]\n",
      " [ 8.34556372  9.37693248 10.66554654 12.1929523  13.69955634 15.44808913\n",
      "  17.08482676 18.5282195  19.65516492 16.09649144 16.45313923 15.55068506\n",
      "  13.59585638 13.64261358 11.03022121 11.59406816 11.9532375  12.87132375\n",
      "  13.4846023  14.46041247 16.37794258 18.47678822 20.1835456  21.76702248\n",
      "  23.37188053 24.88081079 26.46254655 27.68631655 28.15956621 28.29274942]\n",
      " [ 9.49173712 10.52310588 11.81171993 13.3391257  14.84572974 16.59426253\n",
      "  18.23100016 19.6743929  20.80133832 17.14215358 17.49880136 16.50658804\n",
      "  14.30740578 14.35416298 11.28398604 11.84783298 12.20700233 13.12508858\n",
      "  13.73836713 14.7141773  16.71794173 18.97190509 20.67866247 22.30450264\n",
      "  24.06026871 25.56919898 27.15093474 28.42361448 29.05205877 29.22281691]\n",
      " [10.54908094 11.5804497  12.86906376 14.39646953 15.90307356 17.65160636\n",
      "  19.28834398 20.73173672 21.85868214 18.09898614 18.45563393 17.37366145\n",
      "  14.9301256  14.97688281 11.4489213  12.01276824 12.37193759 13.29002384\n",
      "  13.90330239 14.87911255 16.88287699 19.22307467 21.08494977 22.71078994\n",
      "  24.5089193  26.16875759 27.75049335 29.02317309 29.70052713 30.0264799 ]\n",
      " [11.48118874 12.5125575  13.80117156 15.32857733 16.83518136 18.58371416\n",
      "  20.22045179 21.66384452 22.79078994 18.93058267 19.28723046 18.11549884\n",
      "  15.4276094  15.47436661 11.48862053 12.05246747 12.41163682 13.32972307\n",
      "  13.94300162 14.91881178 16.92257622 19.2627739  21.21088332 22.99184121\n",
      "  24.78997058 26.49217216 28.22481594 29.49749568 30.17484972 30.54971223]\n",
      " [12.25699584 13.2883646  14.57697866 16.10438442 17.61098846 19.35952126\n",
      "  20.99625888 22.43965162 23.56659704 19.6058785  19.96252629 18.70103552\n",
      "  15.7687925  15.81554971 11.605222   11.935866   12.17843387 12.97991865\n",
      "  13.47659573 14.33580442 16.22296739 18.44656359 20.27807154 22.02866228\n",
      "  23.95154222 25.77849437 27.67825201 29.26895364 30.26432956 30.86773412]\n",
      " [12.85210437 13.88347313 15.17208719 16.69949295 18.20609699 19.95462978\n",
      "  21.59136741 23.03476015 24.16170557 20.10047577 20.45712355 19.10587363\n",
      "  15.92927703 15.97603423 11.90252204 11.8717689  11.9336382  12.55442441\n",
      "  12.87040291 13.54891303 15.25537742 17.29827506 18.94908444 20.5189766\n",
      "  22.26115796 23.90741154 25.62647061 27.03647367 27.85115102 28.36333684]\n",
      " [13.24982392 14.28119268 15.56980673 17.0972125  18.60381653 20.35234933\n",
      "  21.98908696 23.43247969 24.55942511 20.39768405 20.75433183 19.31332276\n",
      "  15.96618148 15.93912978 12.39721107 11.94092682 12.00728858 12.35703542\n",
      "  12.47562495 12.95674609 14.4658215  16.31133015 17.76475055 19.13725374\n",
      "  20.68204612 22.13091072 23.65258081 24.86519488 25.48248325 25.7972801 ]\n",
      " [13.44188344 14.4732522  15.76186626 17.28927203 18.79587606 20.54440886\n",
      "  22.18114648 23.62453922 24.75148464 20.48923231 20.8458801  19.31511188\n",
      "  16.20874595 16.13493704 13.09756011 12.07742892 12.28210651 12.22502579\n",
      "  12.31209628 12.58755741 13.8909728  15.53082144 16.77858182 17.94542499\n",
      "  19.28455735 20.52776193 21.84377201 22.85072606 23.26235442 23.37149125]\n",
      " [13.45498281 14.46015284 15.73566753 17.24997394 18.74347861 20.47891204\n",
      "  22.1025503  23.53284368 24.64668974 20.60284294 20.73226947 19.51848166\n",
      "  16.65646932 16.5359032  14.00306804 12.41908991 12.6237675  12.2376041\n",
      "  12.51725517 12.38239852 13.48065502 14.91534476 15.95794625 16.91963053\n",
      "  18.053604   19.09164969 20.20250087 21.00429604 21.21076549 21.30678756]\n",
      " [13.66398915 14.27734522 15.35695294 16.67535236 17.97295005 19.5124765\n",
      "  20.94020778 22.17459418 23.09253325 20.91236055 20.64997312 19.91775842\n",
      "  17.30009966 17.13277634 15.10448296 12.95665788 13.16133548 12.42093277\n",
      "  12.72574047 12.50800326 13.28474803 14.5235308  15.37022531 16.1360026\n",
      "  17.0740691  17.9162078  18.831152   19.43704019 19.44760267 19.73953171]\n",
      " [14.05129441 14.30805266 15.17865402 16.31875453 17.43805331 18.79928085\n",
      "  20.04871323 21.10480071 21.84444087 21.40017707 20.78114185 20.49533409\n",
      "  18.12202892 17.90794839 16.38419679 13.67252476 13.87720236 12.78256034\n",
      "  13.08736805 12.81190692 13.23205387 14.29253772 14.96093332 15.5484117\n",
      "  16.30817928 16.97201908 17.70866437 18.13625364 18.30399008 18.77421803]\n",
      " [14.5916854  14.54227218 15.05627572 16.0432905  17.00950355 18.21764535\n",
      "  19.31399199 20.21699374 20.80354818 21.44445043 21.06539631 21.22599549\n",
      "  19.09704391 18.83620618 17.81699635 14.54147738 14.74615497 13.29727365\n",
      "  13.60208135 13.26889631 13.38287179 14.13945199 14.65476185 15.0891545\n",
      "  15.69583635 16.20659042 16.79014997 17.06465351 17.38547568 18.00878936]\n",
      " [15.25341927 14.91190707 15.16915237 15.92194762 16.76681779 17.85361671\n",
      "  18.82862047 19.61027934 20.07549089 20.83773602 21.24333337 21.9174006\n",
      "  20.19340178 19.88580684 19.37113879 15.53177287 15.73645047 13.93332984\n",
      "  14.23813754 13.84722858 13.7185183  14.16892703 14.53341897 14.84646874\n",
      "  15.33180771 15.72121889 16.18343557 16.33659622 16.77876127 17.52341784]\n",
      " [15.99957744 15.19711765 15.45436295 15.95039995 16.68239348 17.6847681\n",
      "  18.57534755 19.27258211 19.65336936 20.5000388  20.99006045 21.92648904\n",
      "  21.37418395 21.01983182 21.00970553 16.60649267 16.81117027 14.65381034\n",
      "  14.95861804 14.50998516 14.08371599 14.42014923 14.47846971 14.70709517\n",
      "  15.10800983 15.41299671 15.79078908 15.85952543 16.38611478 17.21519566]\n",
      " [16.78964034 15.43842352 15.69566881 16.19170582 16.66694109 17.62541099\n",
      "  18.47208572 19.12541556 19.46229809 20.35287225 20.88679862 21.86713194\n",
      "  22.59887085 22.19776151 22.692177   17.7251172  17.9297948  15.41819555\n",
      "  15.72300326 15.21664646 14.40500896 14.7414422  14.68578719 14.66319045\n",
      "  15.02020039 15.28128255 15.61517019 15.64000182 16.2104959  17.08348149]\n",
      " [17.58121567 15.67821694 15.93546224 16.43149924 16.90673452 17.62389855\n",
      "  18.46906084 19.12087825 19.45624833 20.34833493 20.88377375 21.8656195\n",
      "  23.09181883 23.37720364 23.88174541 18.84525416 19.04993176 16.18409321\n",
      "  16.48890091 15.92482019 14.72478948 15.06122273 14.94991271 14.84639875\n",
      "  15.01868795 15.27825767 15.61063288 15.63395207 16.20595858 17.08045662]\n",
      " [18.33184665 15.95895472 16.21620002 16.71223702 17.1874723  17.90463633\n",
      "  18.5100052  19.1618226  19.49719269 20.30739058 20.80188503 21.74278643\n",
      "  22.92804141 24.06653918 25.02024319 19.92444677 20.12912437 16.90904651\n",
      "  17.21385421 16.59204957 15.08551437 15.42194761 15.25498258 15.07055141\n",
      "  15.24284061 15.31920203 15.65157723 15.67489643 16.16501423 16.9985679 ]\n",
      " [19.00082291 16.32134722 16.57859252 17.07462952 17.5498648  18.26702884\n",
      "  18.8723977  19.28442168 19.61979177 20.26668021 20.67951995 21.53876662\n",
      "  22.64236688 23.69920993 25.26059476 20.92198465 21.12666225 17.55234509\n",
      "  17.85715279 17.17762423 15.52789397 15.86432722 15.64170718 15.3763588\n",
      "  15.54864799 15.62500941 15.77417631 15.7974955  16.12430386 16.87620282]\n",
      " [19.55091696 16.80262194 17.05986724 17.55590424 18.03113952 18.74830355\n",
      "  19.35367242 19.7656964  19.86127306 20.27039708 20.56063773 21.30100219\n",
      "  22.28572024 23.22368108 24.6661837  21.80064033 22.00531792 18.07676145\n",
      "  18.38156915 17.64431668 16.08915579 16.42558903 16.14731399 15.80104839\n",
      "  15.97333759 16.049699   16.19886591 16.0389768  16.12802073 16.7573206 ]]\n"
     ]
    }
   ],
   "source": [
    "path, cost_mat = dp(dist_mat)\n",
    "\n",
    "print (\"Alignment cost: {:.4f}\".format(cost_mat[N-1,M-1]))\n",
    "print (\"Normalized Alignment Cost: {:.3f}\".format(cost_mat[N-1, M-1]/(N+M)))\n",
    "\n",
    "print (cost_mat)"
   ]
  },
  {
   "cell_type": "code",
   "execution_count": 16,
   "metadata": {},
   "outputs": [
    {
     "data": {
      "image/png": "[encoded data removed]",
      "text/plain": [
       "<Figure size 432x288 with 1 Axes>"
      ]
     },
     "metadata": {
      "needs_background": "light"
     },
     "output_type": "display_data"
    }
   ],
   "source": [
    "plt.figure(figsize=(6,4))\n",
    "plt.subplot(121)\n",
    "plt.title(\"Distance Matrix\")\n",
    "plt.imshow(dist_mat, cmap = plt.cm.binary, interpolation =\"nearest\", origin =\"lower\")\n",
    "           \n",
    "plt.show()\n"
   ]
  },
  {
   "cell_type": "code",
   "execution_count": 17,
   "metadata": {},
   "outputs": [
    {
     "data": {
      "image/png": "[encoded data removed]",
      "text/plain": [
       "<Figure size 432x288 with 1 Axes>"
      ]
     },
     "metadata": {
      "needs_background": "light"
     },
     "output_type": "display_data"
    }
   ],
   "source": [
    "plt.figure(figsize = (6,4))\n",
    "plt.subplot(122)\n",
    "plt.title(\"Cost Matrix\")\n",
    "plt.imshow(cost_mat, cmap = plt.cm.binary, interpolation = \"nearest\", origin = \"lower\")\n",
    "\n",
    "x_path, y_path = zip(*path)\n",
    "\n",
    "plt.plot(x_path, y_path)\n",
    "\n",
    "plt.show()"
   ]
  },
  {
   "cell_type": "code",
   "execution_count": 18,
   "metadata": {},
   "outputs": [
    {
     "data": {
      "text/plain": [
       "(-1.4500000000000002, 30.45, -1.2727995567640695, 11.579582740207575)"
      ]
     },
     "execution_count": 18,
     "metadata": {},
     "output_type": "execute_result"
    },
    {
     "data": {
      "image/png": "[encoded data removed]",
      "text/plain": [
       "<Figure size 432x288 with 1 Axes>"
      ]
     },
     "metadata": {
      "needs_background": "light"
     },
     "output_type": "display_data"
    }
   ],
   "source": [
    "plt.figure(figsize=(6,4))\n",
    "for x_i, y_j in path:\n",
    "    plt.plot([x_i, y_j], [x[x_i] + 10 , y[y_j]], c=\"C7\")\n",
    "plt.plot(np.arange(x.shape[0]), x + 10, \"-o\", c=\"C3\")\n",
    "plt.plot(np.arange(y.shape[0]), y, \"-o\", c=\"C0\")\n",
    "\n",
    "plt.axis(\"off\")\n",
    "\n"
   ]
  },
  {
   "cell_type": "code",
   "execution_count": null,
   "metadata": {},
   "outputs": [],
   "source": []
  }
 ],
 "metadata": {
  "kernelspec": {
   "display_name": "Python 3",
   "language": "python",
   "name": "python3"
  },
  "language_info": {
   "codemirror_mode": {
    "name": "ipython",
    "version": 3
   },
   "file_extension": ".py",
   "mimetype": "text/x-python",
   "name": "python",
   "nbconvert_exporter": "python",
   "pygments_lexer": "ipython3",
   "version": "3.8.3"
  }
 },
 "nbformat": 4,
 "nbformat_minor": 4
}
